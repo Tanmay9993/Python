{
 "cells": [
  {
   "cell_type": "code",
   "execution_count": 1,
   "metadata": {},
   "outputs": [],
   "source": [
    "# Abstract data type (ADT)\n",
    "# DEQues using array (list)\n",
    "# Here new elements are appended at the end\n",
    "# Elements can be added and removed from both sides\n",
    "\n",
    "class DEQueArray:\n",
    "\n",
    "    def __init__(self):\n",
    "        self._data = []\n",
    "\n",
    "    def __len__(self):\n",
    "        return len(self._data)\n",
    "\n",
    "    def length(self):\n",
    "        return self.__len__()\n",
    "\n",
    "    def display(self):\n",
    "        if len(self._data) == 0:\n",
    "            return \"Empty deque\"\n",
    "        else:\n",
    "            return self._data\n",
    "\n",
    "    def isempty(self):\n",
    "        if len(self._data) == 0:\n",
    "            return True\n",
    "        else:\n",
    "            return False\n",
    "\n",
    "    def enqfront(self, e):\n",
    "        self._data.insert(0,e)\n",
    "\n",
    "    def enqrear(self, e):\n",
    "        self._data.append(e)\n",
    "\n",
    "    def deqfront(self):\n",
    "        if self.isempty():\n",
    "            print('DEQue is empty')\n",
    "            return\n",
    "        else:\n",
    "            return self._data.pop(0)\n",
    "\n",
    "    def deqrear(self):\n",
    "        if self.isempty():\n",
    "            print('DEQue is empty')\n",
    "            return\n",
    "        else:\n",
    "            return self._data.pop()\n",
    "\n",
    "    def front(self):\n",
    "        if self.isempty():\n",
    "            print('DEQue is empty')\n",
    "            return\n",
    "        else:\n",
    "            return self._data[0]\n",
    "\n",
    "    def rear(self):\n",
    "        if self.isempty():\n",
    "            print('DEQue is empty')\n",
    "            return\n",
    "        else:\n",
    "            return self._data[-1]\n"
   ]
  },
  {
   "cell_type": "code",
   "execution_count": 2,
   "metadata": {},
   "outputs": [
    {
     "name": "stdout",
     "output_type": "stream",
     "text": [
      "[3, 5, 7, 12]\n",
      "Size : 4\n"
     ]
    }
   ],
   "source": [
    "D = DEQueArray()\n",
    "D.enqfront(5)\n",
    "D.enqfront(3)\n",
    "D.enqrear(7)\n",
    "D.enqrear(12)\n",
    "print(D.display())\n",
    "print('Size :',D.length())"
   ]
  },
  {
   "cell_type": "code",
   "execution_count": 3,
   "metadata": {},
   "outputs": [
    {
     "name": "stdout",
     "output_type": "stream",
     "text": [
      "[3, 5, 7, 12]\n",
      "Size : 2\n",
      "[5, 7]\n",
      "Front Element: 5\n",
      "Rear Element: 7\n"
     ]
    }
   ],
   "source": [
    "print(D.display())\n",
    "f = D.deqfront()\n",
    "r = D.deqrear()\n",
    "print('Size :',D.length())\n",
    "print(D.display())\n",
    "print('Front Element:',D.front())\n",
    "print('Rear Element:',D.rear())"
   ]
  },
  {
   "cell_type": "code",
   "execution_count": 4,
   "metadata": {},
   "outputs": [
    {
     "name": "stdout",
     "output_type": "stream",
     "text": [
      "Front element removed : 3\n",
      "Rear element removed : 12\n"
     ]
    }
   ],
   "source": [
    "print('Front element removed :', f)\n",
    "print('Rear element removed :', r)"
   ]
  },
  {
   "cell_type": "code",
   "execution_count": 5,
   "metadata": {},
   "outputs": [],
   "source": [
    "# Queues using linked list\n",
    "# Elements can be added and removed from both sides\n",
    "\n",
    "class _Node:\n",
    "    __slots__ = '_element', '_next'\n",
    "\n",
    "    def __init__(self, element, next):\n",
    "        self._element = element\n",
    "        self._next = next\n",
    "\n",
    "class DEQueLinked:\n",
    "\n",
    "    def __init__(self):\n",
    "        self._front = None\n",
    "        self._rear = None\n",
    "        self._size = 0\n",
    "\n",
    "    def __len__(self):\n",
    "        return self._size\n",
    "\n",
    "    def length(self):\n",
    "        return self.__len__()\n",
    "\n",
    "    def display(self):\n",
    "        p = self._front\n",
    "        if self.isempty():\n",
    "            print(\"Empty queue\")\n",
    "        else:\n",
    "            while p:\n",
    "                print(p._element,end=' <-- ')\n",
    "                p = p._next\n",
    "            print()\n",
    "\n",
    "    def isempty(self):\n",
    "        if self._size == 0:\n",
    "            return True\n",
    "        else:\n",
    "            return False\n",
    "\n",
    "    def enqrear(self, e):\n",
    "        newest = _Node(e, None)\n",
    "        if self.isempty():\n",
    "            self._front = newest\n",
    "            self._rear = newest\n",
    "        else:\n",
    "            self._rear._next = newest\n",
    "            self._rear = newest\n",
    "        self._size += 1\n",
    "\n",
    "    def enqfront(self, e):\n",
    "        newest = _Node(e, None)\n",
    "        if self.isempty():\n",
    "            self._front = newest\n",
    "            self._rear = newest\n",
    "        else:\n",
    "            newest._next = self._front\n",
    "            self._front = newest\n",
    "        self._size += 1\n",
    "\n",
    "    def deqfront(self):\n",
    "        p = self._front\n",
    "        i = 1\n",
    "        if self.isempty():\n",
    "            print('Queue is empty')\n",
    "            return\n",
    "        else:\n",
    "            if self._size == 1:\n",
    "                e = self._front._element\n",
    "                self._front = None\n",
    "                self._rear = None\n",
    "                self._size -= 1\n",
    "            else:\n",
    "                e = self._front._element\n",
    "                self._front = self._front._next\n",
    "                self._size -= 1\n",
    "                if self.isempty():\n",
    "                    self._rear = None\n",
    "            return e\n",
    "\n",
    "    def deqrear(self):\n",
    "        p = self._front\n",
    "        i = 1\n",
    "        if self.isempty():\n",
    "            print('DEQue is empty')\n",
    "            return\n",
    "        else:\n",
    "            if self._size == 1:\n",
    "                e = self._front._element\n",
    "                self._front = None\n",
    "                self._rear = None\n",
    "                self._size -= 1\n",
    "            else:\n",
    "                while i < len(self) - 1:\n",
    "                    p = p._next\n",
    "                    i = i + 1\n",
    "                self._rear = p\n",
    "                p = p._next\n",
    "                e = p._element\n",
    "                self._rear._next = None\n",
    "                self._size -= 1\n",
    "            return e\n",
    "\n",
    "    def front(self):\n",
    "        if self.isempty():\n",
    "            print('DEQue is empty')\n",
    "            return\n",
    "        else:\n",
    "            return self._front._element\n",
    "\n",
    "    def rear(self):\n",
    "        if self.isempty():\n",
    "            print('DEQue is empty')\n",
    "            return\n",
    "        else:\n",
    "            return self._rear._element\n"
   ]
  },
  {
   "cell_type": "code",
   "execution_count": 6,
   "metadata": {},
   "outputs": [
    {
     "name": "stdout",
     "output_type": "stream",
     "text": [
      "3 <-- 5 <-- 7 <-- 12 <-- \n",
      "Size : 4\n"
     ]
    }
   ],
   "source": [
    "DQ = DEQueLinked()\n",
    "DQ.enqfront(5)\n",
    "DQ.enqfront(3)\n",
    "DQ.enqrear(7)\n",
    "DQ.enqrear(12)\n",
    "DQ.display()\n",
    "print('Size :',DQ.length())"
   ]
  },
  {
   "cell_type": "code",
   "execution_count": 7,
   "metadata": {},
   "outputs": [
    {
     "name": "stdout",
     "output_type": "stream",
     "text": [
      "Size : 2\n",
      "5 <-- 7 <-- \n",
      "First Element: 5\n",
      "Last Element: 7\n"
     ]
    }
   ],
   "source": [
    "DQ.deqfront()\n",
    "DQ.deqrear()\n",
    "print('Size :',DQ.length())\n",
    "DQ.display()\n",
    "print('First Element:',DQ.front())\n",
    "print('Last Element:',DQ.rear())"
   ]
  },
  {
   "cell_type": "code",
   "execution_count": null,
   "metadata": {},
   "outputs": [],
   "source": []
  }
 ],
 "metadata": {
  "interpreter": {
   "hash": "aee8b7b246df8f9039afb4144a1f6fd8d2ca17a180786b69acc140d282b71a49"
  },
  "kernelspec": {
   "display_name": "Python 3.8.10 64-bit",
   "language": "python",
   "name": "python3"
  },
  "language_info": {
   "codemirror_mode": {
    "name": "ipython",
    "version": 3
   },
   "file_extension": ".py",
   "mimetype": "text/x-python",
   "name": "python",
   "nbconvert_exporter": "python",
   "pygments_lexer": "ipython3",
   "version": "3.8.10"
  },
  "orig_nbformat": 4
 },
 "nbformat": 4,
 "nbformat_minor": 2
}
