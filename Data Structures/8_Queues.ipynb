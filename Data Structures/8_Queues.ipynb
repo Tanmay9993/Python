{
 "cells": [
  {
   "cell_type": "code",
   "execution_count": 1,
   "metadata": {},
   "outputs": [],
   "source": [
    "# Abstract data type (ADT)\n",
    "# First in first out (FIFO)\n",
    "# Queues using array (list)\n",
    "# Here new elements are appended at the end\n",
    "\n",
    "class QueuesArray:\n",
    "\n",
    "    def __init__(self):\n",
    "        self._data = []\n",
    "\n",
    "    def __len__(self):\n",
    "        return len(self._data)\n",
    "\n",
    "    def length(self):\n",
    "        return self.__len__()\n",
    "\n",
    "    def display(self):\n",
    "        if len(self._data) == 0:\n",
    "            return \"Empty queue\"\n",
    "        else:\n",
    "            return self._data\n",
    "\n",
    "    def isempty(self):\n",
    "        if len(self._data) == 0:\n",
    "            return True\n",
    "        else:\n",
    "            return False\n",
    "\n",
    "    def enqueue(self, e):\n",
    "        self._data.append(e)\n",
    "\n",
    "    def dequeue(self):\n",
    "        if self.isempty():\n",
    "            print('Queue is empty')\n",
    "            return\n",
    "        else:\n",
    "            return self._data.pop(0)\n",
    "\n",
    "    def front(self):\n",
    "        if self.isempty():\n",
    "            print('Queue is empty')\n",
    "            return\n",
    "        else:\n",
    "            return self._data[0]\n"
   ]
  },
  {
   "cell_type": "code",
   "execution_count": 2,
   "metadata": {},
   "outputs": [
    {
     "name": "stdout",
     "output_type": "stream",
     "text": [
      "[5, 3]\n"
     ]
    }
   ],
   "source": [
    "Q = QueuesArray()\n",
    "Q.enqueue(5)\n",
    "Q.enqueue(3)\n",
    "print(Q.display())"
   ]
  },
  {
   "cell_type": "code",
   "execution_count": 3,
   "metadata": {},
   "outputs": [
    {
     "name": "stdout",
     "output_type": "stream",
     "text": [
      "Size : 2\n",
      "[3]\n",
      "Size : 1\n",
      "Removed Element: 5\n"
     ]
    }
   ],
   "source": [
    "print(\"Size :\",Q.length())\n",
    "ele = Q.dequeue()\n",
    "print(Q.display())\n",
    "print(\"Size :\",Q.length())\n",
    "print('Removed Element:',ele)"
   ]
  },
  {
   "cell_type": "code",
   "execution_count": 4,
   "metadata": {},
   "outputs": [
    {
     "name": "stdout",
     "output_type": "stream",
     "text": [
      "False\n",
      "[3, 7]\n",
      "Size : 2\n",
      "[3, 7, 12, 6]\n",
      "Size : 4\n"
     ]
    }
   ],
   "source": [
    "print(Q.isempty())\n",
    "Q.enqueue(7)\n",
    "print(Q.display())\n",
    "print(\"Size :\",Q.length())\n",
    "Q.enqueue(12)\n",
    "Q.enqueue(6)\n",
    "print(Q.display())\n",
    "print(\"Size :\",Q.length())"
   ]
  },
  {
   "cell_type": "code",
   "execution_count": 5,
   "metadata": {},
   "outputs": [
    {
     "name": "stdout",
     "output_type": "stream",
     "text": [
      "[12, 6]\n",
      "Size : 2\n",
      "Front Element: 12\n"
     ]
    }
   ],
   "source": [
    "Q.dequeue()\n",
    "Q.dequeue()\n",
    "print(Q.display())\n",
    "print(\"Size :\",Q.length())\n",
    "print('Front Element:',Q.front())"
   ]
  },
  {
   "cell_type": "code",
   "execution_count": 6,
   "metadata": {},
   "outputs": [],
   "source": [
    "# Queues using linked list\n",
    "# Here new elements are appended at the end\n",
    "\n",
    "class _Node:\n",
    "    __slots__ = '_element', '_next'\n",
    "\n",
    "    def __init__(self, element, next):\n",
    "        self._element = element\n",
    "        self._next = next\n",
    "\n",
    "class QueuesLinked:\n",
    "    \n",
    "    def __init__(self):\n",
    "        self._front = None\n",
    "        self._rear = None\n",
    "        self._size = 0\n",
    "\n",
    "    def __len__(self):\n",
    "        return self._size\n",
    "\n",
    "    def length(self):\n",
    "        return self.__len__()\n",
    "\n",
    "    def display(self):\n",
    "        p = self._front\n",
    "        if self.isempty():\n",
    "            print(\"Empty queue\")\n",
    "        else:\n",
    "            while p:\n",
    "                print(p._element,end=' <-- ')\n",
    "                p = p._next\n",
    "            print()\n",
    "    \n",
    "    def isempty(self):\n",
    "        if self._size == 0:\n",
    "            return True\n",
    "        else:\n",
    "            return False\n",
    "\n",
    "    def enqueue(self, e):\n",
    "        newest = _Node(e, None)\n",
    "        if self.isempty():\n",
    "            self._front = newest\n",
    "            self._rear = newest\n",
    "        else:\n",
    "            self._rear._next = newest\n",
    "            self._rear = newest\n",
    "        self._size += 1\n",
    "\n",
    "    def dequeue(self):\n",
    "        p = self._front\n",
    "        i = 1\n",
    "        if self.isempty():\n",
    "            print('Queue is empty')\n",
    "            return\n",
    "        else:\n",
    "            if self._size == 1:\n",
    "                e = self._front._element\n",
    "                self._front = None\n",
    "                self._rear = None\n",
    "                self._size -= 1\n",
    "            else:\n",
    "                e = self._front._element\n",
    "                self._front = self._front._next\n",
    "                self._size -= 1\n",
    "            return e\n",
    "\n",
    "    def front(self):\n",
    "        if self.isempty():\n",
    "            print('Queue is empty')\n",
    "            return\n",
    "        else:\n",
    "            return self._front._element\n"
   ]
  },
  {
   "cell_type": "code",
   "execution_count": 7,
   "metadata": {},
   "outputs": [
    {
     "name": "stdout",
     "output_type": "stream",
     "text": [
      "5 <-- 3 <-- 12 <-- 7 <-- \n",
      "Size : 4\n"
     ]
    }
   ],
   "source": [
    "QL = QueuesLinked()\n",
    "QL.enqueue(5)\n",
    "QL.enqueue(3)\n",
    "QL.enqueue(12)\n",
    "QL.enqueue(7)\n",
    "QL.display()\n",
    "print(\"Size :\",QL.length())"
   ]
  },
  {
   "cell_type": "code",
   "execution_count": 8,
   "metadata": {},
   "outputs": [
    {
     "name": "stdout",
     "output_type": "stream",
     "text": [
      "3 <-- 12 <-- 7 <-- \n",
      "12 <-- 7 <-- \n",
      "Size : 2\n"
     ]
    }
   ],
   "source": [
    "QL.dequeue()\n",
    "QL.display()\n",
    "QL.dequeue()\n",
    "QL.display()\n",
    "print(\"Size :\",QL.length())"
   ]
  },
  {
   "cell_type": "code",
   "execution_count": null,
   "metadata": {},
   "outputs": [],
   "source": []
  }
 ],
 "metadata": {
  "interpreter": {
   "hash": "aee8b7b246df8f9039afb4144a1f6fd8d2ca17a180786b69acc140d282b71a49"
  },
  "kernelspec": {
   "display_name": "Python 3.8.10 64-bit",
   "language": "python",
   "name": "python3"
  },
  "language_info": {
   "codemirror_mode": {
    "name": "ipython",
    "version": 3
   },
   "file_extension": ".py",
   "mimetype": "text/x-python",
   "name": "python",
   "nbconvert_exporter": "python",
   "pygments_lexer": "ipython3",
   "version": "3.8.10"
  },
  "orig_nbformat": 4
 },
 "nbformat": 4,
 "nbformat_minor": 2
}
