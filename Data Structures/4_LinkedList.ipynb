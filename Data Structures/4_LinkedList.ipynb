{
  "cells": [
    {
      "cell_type": "code",
      "execution_count": 1,
      "metadata": {
        "id": "EkaAGXtgVg26"
      },
      "outputs": [],
      "source": [
        "class _Node:\n",
        "    __slots__ = '_element', '_next'\n",
        "\n",
        "    def __init__(self, element, next):\n",
        "        self._element = element\n",
        "        self._next = next\n",
        "\n",
        "class LinkedList:\n",
        "\n",
        "    def __init__(self):\n",
        "        self._head = None\n",
        "        self._tail = None\n",
        "        self._size = 0\n",
        "\n",
        "    def __len__(self):\n",
        "        return self._size\n",
        "\n",
        "    def isempty(self):\n",
        "        if self._size == 0:\n",
        "            return True\n",
        "        else:\n",
        "            return False\n",
        "    \n",
        "    def length(self):\n",
        "        return self.__len__()\n",
        "\n",
        "    def display(self):\n",
        "        p = self._head\n",
        "        if self.isempty():\n",
        "            print(\"Empty List\")\n",
        "        else:\n",
        "            while p:\n",
        "                print(p._element,end=' --> ')\n",
        "                p = p._next\n",
        "            print()\n",
        "\n",
        "    def addlast(self, e):\n",
        "        newest = _Node(e, None)\n",
        "        if self.isempty():\n",
        "            self._head = newest\n",
        "            self._tail = newest\n",
        "        else:\n",
        "            self._tail._next = newest\n",
        "            self._tail = newest\n",
        "        self._size += 1\n",
        "\n",
        "    def addfirst(self, e):\n",
        "        newest = _Node(e, None)\n",
        "        if self.isempty():\n",
        "            self._head = newest\n",
        "            self._tail = newest\n",
        "        else:\n",
        "            newest._next = self._head\n",
        "            self._head = newest\n",
        "        self._size += 1\n",
        "\n",
        "    def addany(self, e, position): # 1st position at 1 # Fancy\n",
        "        newest = _Node(e, None)\n",
        "        p = self._head\n",
        "        i = 1\n",
        "        if self.isempty():\n",
        "            if position == 1:\n",
        "                self.addfirst(e)\n",
        "            else:\n",
        "                print('Invalid position') \n",
        "                pass\n",
        "        else:\n",
        "            if position > self._size + 1 or position <= 0:\n",
        "                print('Invalid position')\n",
        "                pass\n",
        "            else:\n",
        "                if position == 1:\n",
        "                    self.addfirst(e)\n",
        "                elif position == self._size + 1:\n",
        "                    self.addlast(e)\n",
        "                else:\n",
        "                    while i < position-1:\n",
        "                        p = p._next\n",
        "                        i = i + 1\n",
        "                    newest._next = p._next\n",
        "                    p._next = newest\n",
        "                    self._size += 1\n",
        "\n",
        "    def removefirst(self):\n",
        "        if self.isempty():\n",
        "            print('List is empty')\n",
        "            return\n",
        "        if self._size == 1:\n",
        "            e = self._head._element\n",
        "            self._head = None\n",
        "            self._tail = None\n",
        "            self._size -= 1\n",
        "        else:\n",
        "            e = self._head._element\n",
        "            self._head = self._head._next\n",
        "            self._size -= 1\n",
        "        return e\n",
        "\n",
        "    def removelast(self):\n",
        "        if self.isempty():\n",
        "            print('List is empty')\n",
        "            return\n",
        "        p = self._head\n",
        "        i = 1\n",
        "        if self._size == 1:\n",
        "            e = self._head._element\n",
        "            self._head = None\n",
        "            self._tail = None\n",
        "            self._size -= 1\n",
        "        else:\n",
        "            while i < len(self)-1:\n",
        "                p = p._next\n",
        "                i = i + 1\n",
        "            self._tail = p\n",
        "            p = p._next\n",
        "            e = p._element\n",
        "            self._tail._next = None\n",
        "            self._size -= 1\n",
        "        return e\n",
        "            \n",
        "\n",
        "    def removeanyposi(self, position): # 1st position at 1 # Fancy\n",
        "        p = self._head\n",
        "        i = 1\n",
        "        if self.isempty():\n",
        "            print('List is empty') \n",
        "            pass\n",
        "        else:\n",
        "            if position > self._size or position <= 0:\n",
        "                    print('Invalid position') \n",
        "                    pass\n",
        "            else:\n",
        "                if position == 1:\n",
        "                    self.removefirst()\n",
        "                elif position == self._size:\n",
        "                    self.removelast()\n",
        "                else:\n",
        "                    while i < position-1:\n",
        "                        p = p._next\n",
        "                        i = i + 1\n",
        "                    e = p._next._element\n",
        "                    p._next = p._next._next\n",
        "                    self._size -= 1\n",
        "                    return e\n",
        "\n",
        "    def removeanyele(self,key):\n",
        "        posi = self.searchbyelement(key)\n",
        "        self.removeanyposi(posi)\n",
        "\n",
        "    def searchbyelement(self,key):\n",
        "        p = self._head\n",
        "        index = 1\n",
        "        while p:\n",
        "            if p._element == key:\n",
        "                return index\n",
        "            p = p._next\n",
        "            index = index + 1\n",
        "        return -1\n",
        "\n",
        "    def searchbyposition(self,position):\n",
        "        p = self._head\n",
        "        i = 1\n",
        "        if position > self._size or position <= 0:\n",
        "            print('Invalid position')\n",
        "        else:\n",
        "            while i < position:\n",
        "                p = p._next\n",
        "                i = i + 1\n",
        "            return p._element\n",
        "        "
      ]
    },
    {
      "cell_type": "code",
      "execution_count": 2,
      "metadata": {
        "colab": {
          "base_uri": "https://localhost:8080/"
        },
        "id": "fYDqXjlfVg2_",
        "outputId": "e55abd16-1cfb-4072-8fa6-e549f5d7e331"
      },
      "outputs": [
        {
          "name": "stdout",
          "output_type": "stream",
          "text": [
            "7 --> 4 --> 1 --> \n",
            "3 --> 2 --> 7 --> 4 --> 1 --> \n",
            "Invalid position\n",
            "3 --> 2 --> 7 --> 4 --> 1 --> \n",
            "3 --> 2 --> 7 --> 4 --> 9 --> 1 --> \n"
          ]
        }
      ],
      "source": [
        "L = LinkedList()\n",
        "L.addlast(7)\n",
        "L.addlast(4)\n",
        "L.addlast(1)\n",
        "L.display()\n",
        "\n",
        "L.addfirst(2)\n",
        "L.addfirst(3)\n",
        "L.display()\n",
        "\n",
        "L.addany(5,0)\n",
        "L.display()\n",
        "L.addany(9,5)\n",
        "L.display()"
      ]
    },
    {
      "cell_type": "code",
      "execution_count": 3,
      "metadata": {
        "colab": {
          "base_uri": "https://localhost:8080/"
        },
        "id": "RkzSPh2BVg3A",
        "outputId": "0393c2e6-90cf-41fa-f9ff-7caed06f16d5"
      },
      "outputs": [
        {
          "name": "stdout",
          "output_type": "stream",
          "text": [
            "3 --> 2 --> 7 --> 4 --> 9 --> 1 --> \n",
            "2 --> 7 --> 4 --> 9 --> 1 --> \n",
            "2 --> 7 --> 4 --> 9 --> \n",
            "2 --> 7 --> 9 --> \n",
            "7 --> 9 --> \n"
          ]
        }
      ],
      "source": [
        "L.display()\n",
        "\n",
        "L.removefirst()\n",
        "L.display()\n",
        "\n",
        "L.removelast()\n",
        "L.display()\n",
        "\n",
        "L.removeanyposi(3)\n",
        "L.display()\n",
        "\n",
        "L.removeanyele(2)\n",
        "L.display()"
      ]
    },
    {
      "cell_type": "code",
      "execution_count": 4,
      "metadata": {},
      "outputs": [
        {
          "data": {
            "text/plain": [
              "2"
            ]
          },
          "execution_count": 4,
          "metadata": {},
          "output_type": "execute_result"
        }
      ],
      "source": [
        "L.length()"
      ]
    },
    {
      "cell_type": "code",
      "execution_count": 5,
      "metadata": {
        "colab": {
          "base_uri": "https://localhost:8080/"
        },
        "id": "Q9ErDcbVVg3B",
        "outputId": "a190477b-9110-4e73-d7fc-cbcdf65cbb7d"
      },
      "outputs": [
        {
          "data": {
            "text/plain": [
              "False"
            ]
          },
          "execution_count": 5,
          "metadata": {},
          "output_type": "execute_result"
        }
      ],
      "source": [
        "L.isempty()"
      ]
    },
    {
      "cell_type": "code",
      "execution_count": 6,
      "metadata": {},
      "outputs": [
        {
          "data": {
            "text/plain": [
              "7"
            ]
          },
          "execution_count": 6,
          "metadata": {},
          "output_type": "execute_result"
        }
      ],
      "source": [
        "L.searchbyposition(1)"
      ]
    },
    {
      "cell_type": "code",
      "execution_count": 7,
      "metadata": {
        "colab": {
          "base_uri": "https://localhost:8080/"
        },
        "id": "JtZyFwcEVg3B",
        "outputId": "d7975acf-d94a-4431-8981-7963ce8f62b7"
      },
      "outputs": [
        {
          "data": {
            "text/plain": [
              "-1"
            ]
          },
          "execution_count": 7,
          "metadata": {},
          "output_type": "execute_result"
        }
      ],
      "source": [
        "L.searchbyelement(1)"
      ]
    },
    {
      "cell_type": "code",
      "execution_count": 8,
      "metadata": {
        "colab": {
          "base_uri": "https://localhost:8080/"
        },
        "id": "r5ixWKTdVg3C",
        "outputId": "3bc7566e-8009-4179-808f-28b61c66c008"
      },
      "outputs": [
        {
          "data": {
            "text/plain": [
              "2"
            ]
          },
          "execution_count": 8,
          "metadata": {},
          "output_type": "execute_result"
        }
      ],
      "source": [
        "L.searchbyelement(9)"
      ]
    },
    {
      "cell_type": "code",
      "execution_count": null,
      "metadata": {
        "id": "CVwSX--AVg3C"
      },
      "outputs": [],
      "source": []
    }
  ],
  "metadata": {
    "colab": {
      "name": "4_LinkedList.ipynb",
      "provenance": []
    },
    "interpreter": {
      "hash": "aee8b7b246df8f9039afb4144a1f6fd8d2ca17a180786b69acc140d282b71a49"
    },
    "kernelspec": {
      "display_name": "Python 3.10.2 64-bit",
      "language": "python",
      "name": "python3"
    },
    "language_info": {
      "codemirror_mode": {
        "name": "ipython",
        "version": 3
      },
      "file_extension": ".py",
      "mimetype": "text/x-python",
      "name": "python",
      "nbconvert_exporter": "python",
      "pygments_lexer": "ipython3",
      "version": "3.8.10"
    },
    "orig_nbformat": 4
  },
  "nbformat": 4,
  "nbformat_minor": 0
}
