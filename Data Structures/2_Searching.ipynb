{
 "cells": [
  {
   "cell_type": "code",
   "execution_count": 1,
   "metadata": {},
   "outputs": [
    {
     "name": "stdout",
     "output_type": "stream",
     "text": [
      "Result: 4\n"
     ]
    }
   ],
   "source": [
    "# Linear Search\n",
    "def linearsearch(A, key):\n",
    "    index = 0\n",
    "    while index < len(A):\n",
    "        if A[index] == key :\n",
    "            return index\n",
    "        index = index + 1\n",
    "    return -1\n",
    "A = [84, 21, 47, 96, 15]\n",
    "found = linearsearch(A,96)\n",
    "print('Result:',found+1)"
   ]
  },
  {
   "cell_type": "code",
   "execution_count": 2,
   "metadata": {},
   "outputs": [
    {
     "name": "stdout",
     "output_type": "stream",
     "text": [
      "Position: 4\n"
     ]
    }
   ],
   "source": [
    "# Binary Search Iterative\n",
    "def binarysearch_iterative(A, key):\n",
    "    l = 0\n",
    "    r = len(A)-1\n",
    "    while l <= r:\n",
    "        mid = (l + r) // 2\n",
    "        if key == A[mid]:\n",
    "            return mid\n",
    "        elif key < A[mid]:\n",
    "            r = mid - 1\n",
    "        elif key > A[mid]:\n",
    "            l = mid + 1\n",
    "    return -1\n",
    "A = [15, 21, 47, 84, 96]\n",
    "found = binarysearch_iterative(A,84)\n",
    "print('Position:',found+1)"
   ]
  },
  {
   "cell_type": "code",
   "execution_count": 3,
   "metadata": {},
   "outputs": [
    {
     "name": "stdout",
     "output_type": "stream",
     "text": [
      "Result: 1\n"
     ]
    }
   ],
   "source": [
    "# Binary Search Recursive\n",
    "def binaryseaarch_recursive(A, key, l, r):\n",
    "    if l > r:\n",
    "        return -1\n",
    "    else:\n",
    "        mid = (l + r) // 2\n",
    "        if key == A[mid]:\n",
    "            return mid\n",
    "        elif key < A[mid]:\n",
    "            return binaryseaarch_recursive(A,key,l,mid-1)\n",
    "        elif key > A[mid]:\n",
    "            return binaryseaarch_recursive(A,key,mid+1,r)\n",
    "A = [15, 21, 47, 84, 96]\n",
    "l = 0\n",
    "r = len(A)\n",
    "found = binaryseaarch_recursive(A,15,l,r)\n",
    "print('Result:',found+1)"
   ]
  },
  {
   "cell_type": "code",
   "execution_count": null,
   "metadata": {},
   "outputs": [],
   "source": []
  }
 ],
 "metadata": {
  "interpreter": {
   "hash": "aee8b7b246df8f9039afb4144a1f6fd8d2ca17a180786b69acc140d282b71a49"
  },
  "kernelspec": {
   "display_name": "Python 3.10.2 64-bit",
   "language": "python",
   "name": "python3"
  },
  "language_info": {
   "codemirror_mode": {
    "name": "ipython",
    "version": 3
   },
   "file_extension": ".py",
   "mimetype": "text/x-python",
   "name": "python",
   "nbconvert_exporter": "python",
   "pygments_lexer": "ipython3",
   "version": "3.8.10"
  },
  "orig_nbformat": 4
 },
 "nbformat": 4,
 "nbformat_minor": 2
}
