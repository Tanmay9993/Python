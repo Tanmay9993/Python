{
 "cells": [
  {
   "cell_type": "code",
   "execution_count": 1,
   "metadata": {},
   "outputs": [],
   "source": [
    "# Abstract data type (ADT)\n",
    "# Last in first out (LIFO)\n",
    "# Stack using array (list)\n",
    "# Here last element is top of stack\n",
    "\n",
    "class StacksArray:\n",
    "\n",
    "    def __init__(self):\n",
    "        self._data = []\n",
    "\n",
    "    def __len__(self):\n",
    "        return len(self._data)\n",
    "    \n",
    "    def length(self):\n",
    "        return self.__len__()\n",
    "\n",
    "    def display(self):\n",
    "        if len(self._data) == 0:\n",
    "            return \"Empty Stack\"\n",
    "        else:\n",
    "            return self._data\n",
    "\n",
    "    def isempty(self):\n",
    "        if len(self._data) == 0:\n",
    "            return True\n",
    "        else:\n",
    "            return False\n",
    "\n",
    "    def push(self, e):\n",
    "        self._data.append(e)\n",
    "\n",
    "    def pop(self):\n",
    "        if self.isempty():\n",
    "            print('Stack is empty')\n",
    "            return\n",
    "        else:\n",
    "            return self._data.pop()\n",
    "\n",
    "    def top(self):\n",
    "        if self.isempty():\n",
    "            print('Stack is empty')\n",
    "            return\n",
    "        else:\n",
    "            return self._data[-1]\n"
   ]
  },
  {
   "cell_type": "code",
   "execution_count": 2,
   "metadata": {},
   "outputs": [
    {
     "name": "stdout",
     "output_type": "stream",
     "text": [
      "[5, 3]\n"
     ]
    }
   ],
   "source": [
    "S = StacksArray()\n",
    "S.push(5)\n",
    "S.push(3)\n",
    "print(S.display())"
   ]
  },
  {
   "cell_type": "code",
   "execution_count": 3,
   "metadata": {},
   "outputs": [
    {
     "name": "stdout",
     "output_type": "stream",
     "text": [
      "Size : 2\n",
      "3\n",
      "False\n",
      "5\n",
      "True\n"
     ]
    }
   ],
   "source": [
    "print(\"Size :\",S.length())\n",
    "print(S.pop())\n",
    "print(S.isempty())\n",
    "print(S.pop())\n",
    "print(S.isempty())"
   ]
  },
  {
   "cell_type": "code",
   "execution_count": 4,
   "metadata": {},
   "outputs": [
    {
     "name": "stdout",
     "output_type": "stream",
     "text": [
      "[7, 9]\n",
      "9\n",
      "Size : 3\n"
     ]
    }
   ],
   "source": [
    "S.push(7)\n",
    "S.push(9)\n",
    "print(S.display())\n",
    "print(S.top())\n",
    "S.push(4)\n",
    "print(\"Size :\",S.length())"
   ]
  },
  {
   "cell_type": "code",
   "execution_count": 5,
   "metadata": {},
   "outputs": [
    {
     "name": "stdout",
     "output_type": "stream",
     "text": [
      "[7, 9, 4]\n",
      "4\n",
      "8\n",
      "[7, 9, 6]\n"
     ]
    }
   ],
   "source": [
    "print(S.display())\n",
    "print(S.pop())\n",
    "S.push(6)\n",
    "S.push(8)\n",
    "print(S.pop())\n",
    "print(S.display())"
   ]
  },
  {
   "cell_type": "code",
   "execution_count": 6,
   "metadata": {},
   "outputs": [],
   "source": [
    "# Stack using linked list\n",
    "# Here first element is top of stack\n",
    "\n",
    "class _Node:\n",
    "    __slots__ = '_element', '_next'\n",
    "\n",
    "    def __init__(self, element, next):\n",
    "        self._element = element\n",
    "        self._next = next\n",
    "\n",
    "class StacksLinked:\n",
    "    \n",
    "    def __init__(self):\n",
    "        self._top = None\n",
    "        self._size = 0\n",
    "\n",
    "    def __len__(self):\n",
    "        return self._size\n",
    "    \n",
    "    def length(self):\n",
    "        return self.__len__()\n",
    "\n",
    "    def display(self):\n",
    "        p = self._top\n",
    "        if self.isempty():\n",
    "            print(\"Empty stack\")\n",
    "        else:\n",
    "            while p:\n",
    "                print(p._element,end=' --> ')\n",
    "                p = p._next\n",
    "            print()\n",
    "\n",
    "    def isempty(self):\n",
    "        if self._size == 0:\n",
    "            return True\n",
    "        else:\n",
    "            return False\n",
    "\n",
    "    def push(self, e):\n",
    "        newest = _Node(e, None)\n",
    "        if self.isempty():\n",
    "            self._top = newest\n",
    "        else:\n",
    "            newest._next = self._top\n",
    "            self._top = newest\n",
    "        self._size += 1\n",
    "\n",
    "    def pop(self):\n",
    "        p = self._top\n",
    "        i = 1\n",
    "        if self.isempty():\n",
    "            print('Stack is empty')\n",
    "            return\n",
    "        else:\n",
    "            if self._size == 1:\n",
    "                e = self._top._element\n",
    "                self._top = None\n",
    "                self._size -= 1\n",
    "            else:\n",
    "                e = self._top._element\n",
    "                self._top = self._top._next\n",
    "                self._size -= 1\n",
    "            return e\n",
    "\n",
    "    def top(self):\n",
    "        if self.isempty():\n",
    "            print('Stack is empty')\n",
    "            return\n",
    "        else:\n",
    "            return self._top._element\n",
    "    "
   ]
  },
  {
   "cell_type": "code",
   "execution_count": 7,
   "metadata": {},
   "outputs": [
    {
     "name": "stdout",
     "output_type": "stream",
     "text": [
      "8 --> 2 --> 3 --> 5 --> \n"
     ]
    }
   ],
   "source": [
    "SL = StacksLinked()\n",
    "SL.push(5)\n",
    "SL.push(3)\n",
    "SL.push(2)\n",
    "SL.push(8)\n",
    "SL.display()"
   ]
  },
  {
   "cell_type": "code",
   "execution_count": 8,
   "metadata": {},
   "outputs": [
    {
     "name": "stdout",
     "output_type": "stream",
     "text": [
      "2 --> 3 --> 5 --> \n",
      "3 --> 5 --> \n"
     ]
    }
   ],
   "source": [
    "SL.pop()\n",
    "SL.display()\n",
    "SL.pop()\n",
    "SL.display()"
   ]
  },
  {
   "cell_type": "code",
   "execution_count": null,
   "metadata": {},
   "outputs": [],
   "source": []
  }
 ],
 "metadata": {
  "interpreter": {
   "hash": "aee8b7b246df8f9039afb4144a1f6fd8d2ca17a180786b69acc140d282b71a49"
  },
  "kernelspec": {
   "display_name": "Python 3.8.10 64-bit",
   "language": "python",
   "name": "python3"
  },
  "language_info": {
   "codemirror_mode": {
    "name": "ipython",
    "version": 3
   },
   "file_extension": ".py",
   "mimetype": "text/x-python",
   "name": "python",
   "nbconvert_exporter": "python",
   "pygments_lexer": "ipython3",
   "version": "3.8.10"
  },
  "orig_nbformat": 4
 },
 "nbformat": 4,
 "nbformat_minor": 2
}
