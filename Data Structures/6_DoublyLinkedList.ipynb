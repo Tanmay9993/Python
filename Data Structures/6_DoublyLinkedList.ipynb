{
 "cells": [
  {
   "cell_type": "code",
   "execution_count": 1,
   "metadata": {},
   "outputs": [],
   "source": [
    "class _Node:\n",
    "    __slots__ = '_element', '_next', '_prev'\n",
    "\n",
    "    def __init__(self, element, next, prev):\n",
    "        self._element = element\n",
    "        self._next = next\n",
    "        self._prev = prev\n",
    "\n",
    "class DoublyLinkedList:\n",
    "\n",
    "    def __init__(self):\n",
    "        self._head = None\n",
    "        self._tail = None\n",
    "        self._size = 0\n",
    "\n",
    "    def __len__(self):\n",
    "        return self._size\n",
    "\n",
    "    def isempty(self):\n",
    "        if self._size == 0:\n",
    "            return True\n",
    "        else:\n",
    "            return False\n",
    "    \n",
    "    def length(self):\n",
    "        return self.__len__()\n",
    "\n",
    "    def display(self):\n",
    "        p = self._head\n",
    "        if self.isempty():\n",
    "            print(\"Empty list\")\n",
    "        else:\n",
    "            while p:\n",
    "                print(p._element,end=' <-> ')\n",
    "                p = p._next\n",
    "            print()\n",
    "\n",
    "    def displayrev(self):\n",
    "        p = self._tail\n",
    "        while p:\n",
    "            print(p._element,end=' <->')\n",
    "            p = p._prev\n",
    "        print()\n",
    "\n",
    "    def addlast(self, e):\n",
    "        newest = _Node(e, None, None)\n",
    "        if self.isempty():\n",
    "            self._head = newest\n",
    "            self._tail = newest\n",
    "        else:\n",
    "            self._tail._next = newest\n",
    "            newest._prev = self._tail\n",
    "            self._tail = newest\n",
    "        self._size += 1\n",
    "\n",
    "    def addfirst(self, e):\n",
    "        newest = _Node(e, None, None)\n",
    "        if self.isempty():\n",
    "            self._head = newest\n",
    "            self._tail = newest\n",
    "        else:\n",
    "            self._head._prev = newest\n",
    "            newest._next = self._head\n",
    "            self._head = newest\n",
    "        self._size += 1\n",
    "\n",
    "    def addany(self, e, position):\n",
    "        newest = _Node(e, None, None)\n",
    "        p = self._head\n",
    "        i = 1\n",
    "        if self.isempty():\n",
    "            if position == 1:\n",
    "                self.addfirst(e)\n",
    "            else:\n",
    "                print('Invalid position') \n",
    "                pass\n",
    "        else:\n",
    "            if position > self._size + 1 or position <= 0:\n",
    "                print('Invalid position')\n",
    "                pass\n",
    "            else:\n",
    "                if position == 1:\n",
    "                    self.addfirst(e)\n",
    "                elif position == self._size + 1:\n",
    "                    self.addlast(e)\n",
    "                else:\n",
    "                    while i < position-1:\n",
    "                        p = p._next\n",
    "                        i = i + 1\n",
    "                    newest._next = p._next\n",
    "                    p._next._prev = newest\n",
    "                    p._next = newest\n",
    "                    newest._prev = p\n",
    "                    self._size += 1\n",
    "\n",
    "    def removefirst(self):\n",
    "        if self.isempty():\n",
    "            print('List is empty')\n",
    "            return\n",
    "        if self._size == 1:\n",
    "            e = self._head._element\n",
    "            self._head = None\n",
    "            self._tail = None\n",
    "            self._size -= 1\n",
    "        else:\n",
    "            e = self._head._element\n",
    "            self._head = self._head._next\n",
    "            self._head._prev = None\n",
    "            self._size -= 1\n",
    "        return e\n",
    "\n",
    "    def removelast(self):\n",
    "        if self.isempty():\n",
    "            print('List is empty')\n",
    "            return\n",
    "        if self._size == 1:\n",
    "            e = self._head._element\n",
    "            self._head = None\n",
    "            self._tail = None\n",
    "            self._size -= 1 \n",
    "        else:\n",
    "            e = self._tail._element\n",
    "            self._tail = self._tail._prev\n",
    "            self._tail._next = None\n",
    "            self._size -= 1\n",
    "        return e\n",
    "\n",
    "    def removeanyposi(self, position):\n",
    "        p = self._head\n",
    "        i = 1\n",
    "        if self.isempty():\n",
    "            print('List is empty')\n",
    "            return\n",
    "        else:\n",
    "            if position > self._size or position <= 0:\n",
    "                print('Invalid position') \n",
    "                pass\n",
    "            else:\n",
    "                if position == 1:\n",
    "                    self.removefirst()\n",
    "                elif position == self._size:\n",
    "                    self.removelast()\n",
    "                else:\n",
    "                    while i < position - 1:\n",
    "                        p = p._next\n",
    "                        i = i + 1\n",
    "                    e = p._next._element\n",
    "                    p._next = p._next._next\n",
    "                    p._next._prev = p\n",
    "                    self._size -= 1\n",
    "                    return e\n",
    "\n",
    "    def removeanyele(self,key):\n",
    "        posi = self.searchbyelement(key)\n",
    "        self.removeanyposi(posi)\n",
    "\n",
    "    def searchbyelement(self,key):\n",
    "        p = self._head\n",
    "        index = 1\n",
    "        while p:\n",
    "            if p._element == key:\n",
    "                return index\n",
    "            p = p._next\n",
    "            index = index + 1\n",
    "        return -1\n",
    "\n",
    "    def searchbyposition(self,position):\n",
    "        p = self._head\n",
    "        i = 1\n",
    "        if position > self._size or position <= 0:\n",
    "            print('Invalid position')\n",
    "        else:\n",
    "            while i < position:\n",
    "                p = p._next\n",
    "                i = i + 1\n",
    "            return p._element\n"
   ]
  },
  {
   "cell_type": "code",
   "execution_count": 2,
   "metadata": {},
   "outputs": [
    {
     "name": "stdout",
     "output_type": "stream",
     "text": [
      "7 <-> 4 <-> 1 <-> \n",
      "3 <-> 2 <-> 7 <-> 4 <-> 1 <-> \n",
      "Invalid position\n",
      "3 <-> 2 <-> 7 <-> 4 <-> 1 <-> \n",
      "3 <-> 2 <-> 7 <-> 4 <-> 9 <-> 1 <-> \n"
     ]
    }
   ],
   "source": [
    "D = DoublyLinkedList()\n",
    "D.addlast(7)\n",
    "D.addlast(4)\n",
    "D.addlast(1)\n",
    "D.display()\n",
    "\n",
    "D.addfirst(2)\n",
    "D.addfirst(3)\n",
    "D.display()\n",
    "\n",
    "D.addany(5,0)\n",
    "D.display()\n",
    "D.addany(9,5)\n",
    "D.display()"
   ]
  },
  {
   "cell_type": "code",
   "execution_count": 3,
   "metadata": {},
   "outputs": [
    {
     "name": "stdout",
     "output_type": "stream",
     "text": [
      "3 <-> 2 <-> 7 <-> 4 <-> 9 <-> 1 <-> \n",
      "2 <-> 7 <-> 4 <-> 9 <-> 1 <-> \n",
      "2 <-> 7 <-> 4 <-> 9 <-> \n",
      "2 <-> 7 <-> 9 <-> \n",
      "7 <-> 9 <-> \n"
     ]
    }
   ],
   "source": [
    "D.display()\n",
    "\n",
    "D.removefirst()\n",
    "D.display()\n",
    "\n",
    "D.removelast()\n",
    "D.display()\n",
    "\n",
    "D.removeanyposi(3)\n",
    "D.display()\n",
    "\n",
    "D.removeanyele(2)\n",
    "D.display()"
   ]
  },
  {
   "cell_type": "code",
   "execution_count": 4,
   "metadata": {},
   "outputs": [
    {
     "data": {
      "text/plain": [
       "2"
      ]
     },
     "execution_count": 4,
     "metadata": {},
     "output_type": "execute_result"
    }
   ],
   "source": [
    "D.length()"
   ]
  },
  {
   "cell_type": "code",
   "execution_count": 5,
   "metadata": {},
   "outputs": [
    {
     "data": {
      "text/plain": [
       "False"
      ]
     },
     "execution_count": 5,
     "metadata": {},
     "output_type": "execute_result"
    }
   ],
   "source": [
    "D.isempty()"
   ]
  },
  {
   "cell_type": "code",
   "execution_count": 6,
   "metadata": {},
   "outputs": [
    {
     "data": {
      "text/plain": [
       "7"
      ]
     },
     "execution_count": 6,
     "metadata": {},
     "output_type": "execute_result"
    }
   ],
   "source": [
    "D.searchbyposition(1)"
   ]
  },
  {
   "cell_type": "code",
   "execution_count": 7,
   "metadata": {},
   "outputs": [
    {
     "data": {
      "text/plain": [
       "-1"
      ]
     },
     "execution_count": 7,
     "metadata": {},
     "output_type": "execute_result"
    }
   ],
   "source": [
    "D.searchbyelement(1)"
   ]
  },
  {
   "cell_type": "code",
   "execution_count": 8,
   "metadata": {},
   "outputs": [
    {
     "data": {
      "text/plain": [
       "2"
      ]
     },
     "execution_count": 8,
     "metadata": {},
     "output_type": "execute_result"
    }
   ],
   "source": [
    "D.searchbyelement(9)"
   ]
  },
  {
   "cell_type": "code",
   "execution_count": null,
   "metadata": {},
   "outputs": [],
   "source": []
  }
 ],
 "metadata": {
  "interpreter": {
   "hash": "aee8b7b246df8f9039afb4144a1f6fd8d2ca17a180786b69acc140d282b71a49"
  },
  "kernelspec": {
   "display_name": "Python 3.8.10 64-bit",
   "language": "python",
   "name": "python3"
  },
  "language_info": {
   "codemirror_mode": {
    "name": "ipython",
    "version": 3
   },
   "file_extension": ".py",
   "mimetype": "text/x-python",
   "name": "python",
   "nbconvert_exporter": "python",
   "pygments_lexer": "ipython3",
   "version": "3.8.10"
  },
  "orig_nbformat": 4
 },
 "nbformat": 4,
 "nbformat_minor": 2
}
