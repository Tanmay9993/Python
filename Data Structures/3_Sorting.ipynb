{
 "cells": [
  {
   "cell_type": "code",
   "execution_count": 1,
   "metadata": {},
   "outputs": [
    {
     "name": "stdout",
     "output_type": "stream",
     "text": [
      "Original Array: [3, 5, 8, 9, 6, 2]\n",
      "[3, 5, 8, 6, 2, 9]\n",
      "[3, 5, 6, 2, 8, 9]\n",
      "[3, 5, 2, 6, 8, 9]\n",
      "[3, 2, 5, 6, 8, 9]\n",
      "[2, 3, 5, 6, 8, 9]\n",
      "Sorted Array: [2, 3, 5, 6, 8, 9]\n"
     ]
    }
   ],
   "source": [
    "# Bubble Sort -- stable sort\n",
    "def bubblesort(A):\n",
    "    n = len(A)\n",
    "    for passes in range(n-1,0,-1):\n",
    "        for j in range(passes):\n",
    "            if A[j] > A[j+1]:\n",
    "                temp = A[j]\n",
    "                A[j] = A[j+1]\n",
    "                A[j+1] = temp\n",
    "        print(A)\n",
    "\n",
    "A = [3, 5, 8, 9, 6, 2]\n",
    "print('Original Array:',A)\n",
    "bubblesort(A)\n",
    "print('Sorted Array:',A)"
   ]
  },
  {
   "cell_type": "code",
   "execution_count": 2,
   "metadata": {},
   "outputs": [
    {
     "name": "stdout",
     "output_type": "stream",
     "text": [
      "Original Array: [3, 5, 8, 9, 6, 2]\n",
      "[3, 5, 8, 9, 6, 2]\n",
      "[3, 5, 8, 9, 6, 2]\n",
      "[3, 5, 8, 9, 6, 2]\n",
      "[3, 5, 6, 8, 9, 2]\n",
      "[2, 3, 5, 6, 8, 9]\n",
      "Sorted Array: [2, 3, 5, 6, 8, 9]\n"
     ]
    }
   ],
   "source": [
    "# Insertion Sort -- stable sort\n",
    "def insertionsort(A):\n",
    "    n = len(A)\n",
    "    for i in range(1,n):\n",
    "        cvalue = A[i]\n",
    "        position = i\n",
    "        while position > 0 and A[position-1] > cvalue:\n",
    "            A[position] = A[position-1]\n",
    "            position = position - 1\n",
    "        A[position] = cvalue\n",
    "        print(A)\n",
    "\n",
    "A = [3,5,8,9,6,2]\n",
    "print('Original Array:',A)\n",
    "insertionsort(A)\n",
    "print('Sorted Array:',A)"
   ]
  },
  {
   "cell_type": "code",
   "execution_count": 3,
   "metadata": {},
   "outputs": [
    {
     "name": "stdout",
     "output_type": "stream",
     "text": [
      "Original Array: [3, 5, 8, 9, 6, 2]\n",
      "Sorted Array: [2, 3, 5, 6, 8, 9]\n"
     ]
    }
   ],
   "source": [
    "# Quick Sort\n",
    "def partition(A, low, high):\n",
    "    pivot = A[low]\n",
    "    i = low + 1\n",
    "    j = high\n",
    "    while True:\n",
    "        while i <= j and A[i] <= pivot:\n",
    "            i = i + 1\n",
    "        while i <=j and A[j] > pivot:\n",
    "            j = j - 1\n",
    "        if i <= j:\n",
    "            A[i], A[j] = A[j], A[i]\n",
    "        else:\n",
    "            break\n",
    "    A[low], A[j] = A[j], A[low]\n",
    "    return j\n",
    "def quicksort(A, low, high):\n",
    "    if low < high:\n",
    "        pi = partition(A, low, high)\n",
    "        quicksort(A, low, pi - 1)\n",
    "        quicksort(A, pi + 1, high)\n",
    "\n",
    "A = [3, 5, 8, 9, 6, 2]\n",
    "print('Original Array:',A)\n",
    "quicksort(A, 0, len(A)-1)\n",
    "print('Sorted Array:',A)"
   ]
  },
  {
   "cell_type": "code",
   "execution_count": 4,
   "metadata": {},
   "outputs": [
    {
     "name": "stdout",
     "output_type": "stream",
     "text": [
      "Original Array: [3, 5, 8, 9, 6, 2]\n",
      "Sorted Array: [2, 3, 5, 6, 8, 9]\n"
     ]
    }
   ],
   "source": [
    "# Merge Sort\n",
    "def mergesort(A, left, right):\n",
    "    if left < right:\n",
    "        mid = (left + right) // 2\n",
    "        mergesort(A, left, mid)\n",
    "        mergesort(A, mid+1, right)\n",
    "        merge(A, left, mid, right)\n",
    "def merge(A, left, mid, right):\n",
    "    i = left\n",
    "    j = mid+1\n",
    "    k = left\n",
    "    B = [0] * (right+1)\n",
    "    while i <= mid and j <= right:\n",
    "        if A[i] < A[j]:\n",
    "            B[k] = A[i]\n",
    "            i = i + 1\n",
    "        else:\n",
    "            B[k] = A[j]\n",
    "            j = j + 1\n",
    "        k = k + 1\n",
    "    while i <= mid:\n",
    "        B[k] = A[i]\n",
    "        i = i + 1\n",
    "        k = k + 1\n",
    "    while j <= right:\n",
    "        B[k] = A[j]\n",
    "        j = j + 1\n",
    "        k = k + 1\n",
    "    for x in range(left,right+1):\n",
    "        A[x] = B[x]\n",
    "\n",
    "A = [3, 5, 8, 9, 6, 2]\n",
    "print('Original Array:',A)\n",
    "mergesort(A,0,len(A)-1)\n",
    "print('Sorted Array:',A)"
   ]
  },
  {
   "cell_type": "code",
   "execution_count": null,
   "metadata": {},
   "outputs": [],
   "source": []
  }
 ],
 "metadata": {
  "interpreter": {
   "hash": "aee8b7b246df8f9039afb4144a1f6fd8d2ca17a180786b69acc140d282b71a49"
  },
  "kernelspec": {
   "display_name": "Python 3.10.2 64-bit",
   "language": "python",
   "name": "python3"
  },
  "language_info": {
   "codemirror_mode": {
    "name": "ipython",
    "version": 3
   },
   "file_extension": ".py",
   "mimetype": "text/x-python",
   "name": "python",
   "nbconvert_exporter": "python",
   "pygments_lexer": "ipython3",
   "version": "3.8.10"
  },
  "orig_nbformat": 4
 },
 "nbformat": 4,
 "nbformat_minor": 2
}
