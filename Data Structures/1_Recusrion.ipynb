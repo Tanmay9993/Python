{
 "cells": [
  {
   "cell_type": "code",
   "execution_count": 1,
   "metadata": {},
   "outputs": [],
   "source": [
    "# Iterative Function\n",
    "def calculate_itr(n):\n",
    "    while n > 0:\n",
    "        k = n ** 2\n",
    "        #print(k)\n",
    "        n = n - 1\n",
    "calculate_itr(4)\n",
    "\n",
    "# Recursive Function\n",
    "def calculate_rec(n):\n",
    "    if n > 0:\n",
    "        k = n ** 2\n",
    "        #print(k)\n",
    "        calculate_rec(n - 1)\n",
    "calculate_rec(4)"
   ]
  },
  {
   "cell_type": "code",
   "execution_count": 2,
   "metadata": {},
   "outputs": [],
   "source": [
    "# Tail Recursion\n",
    "def calculate_tail(n):\n",
    "    if n > 0:\n",
    "        k = n ** 2\n",
    "        #print(k)\n",
    "        calculate_tail(n - 1)\n",
    "calculate_tail(4)\n",
    "\n",
    "# Head Recursion\n",
    "def calculate_head(n):\n",
    "    if n > 0:\n",
    "        calculate_head(n - 1)\n",
    "        k = n ** 2\n",
    "        #print(k)\n",
    "calculate_head(4)"
   ]
  },
  {
   "cell_type": "code",
   "execution_count": 3,
   "metadata": {},
   "outputs": [],
   "source": [
    "# Indirect Recursion\n",
    "def calculateA(n):\n",
    "    if n > 0:\n",
    "        k = n * 2\n",
    "        calculateB(n - 1)\n",
    "        #print(k)\n",
    "def calculateB(n):\n",
    "    if n > 0:\n",
    "        k = n - 3\n",
    "        calculateA(n - 1)\n",
    "        #print(k)\n",
    "calculateA(4)\n",
    "calculateB(3)"
   ]
  },
  {
   "cell_type": "code",
   "execution_count": 4,
   "metadata": {},
   "outputs": [],
   "source": [
    "# Tree Recursion\n",
    "def calculate(n):\n",
    "    if n > 0:\n",
    "        calculate(n - 1)\n",
    "        k = n ** 2\n",
    "        #print(k)\n",
    "        calculate(n - 1)\n",
    "calculate(3)"
   ]
  },
  {
   "cell_type": "code",
   "execution_count": null,
   "metadata": {},
   "outputs": [],
   "source": []
  }
 ],
 "metadata": {
  "interpreter": {
   "hash": "aee8b7b246df8f9039afb4144a1f6fd8d2ca17a180786b69acc140d282b71a49"
  },
  "kernelspec": {
   "display_name": "Python 3.10.2 64-bit",
   "language": "python",
   "name": "python3"
  },
  "language_info": {
   "codemirror_mode": {
    "name": "ipython",
    "version": 3
   },
   "file_extension": ".py",
   "mimetype": "text/x-python",
   "name": "python",
   "nbconvert_exporter": "python",
   "pygments_lexer": "ipython3",
   "version": "3.8.10"
  },
  "orig_nbformat": 4
 },
 "nbformat": 4,
 "nbformat_minor": 2
}
